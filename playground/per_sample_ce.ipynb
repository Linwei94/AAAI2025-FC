{
 "cells": [
  {
   "cell_type": "code",
   "execution_count": 1,
   "metadata": {},
   "outputs": [],
   "source": [
    "import torch\n",
    "import torch.nn as nn\n",
    "import torch.nn.functional as F\n",
    "import numpy as np\n",
    "import matplotlib.pyplot as plt"
   ]
  },
  {
   "cell_type": "code",
   "execution_count": 2,
   "metadata": {},
   "outputs": [
    {
     "data": {
      "text/plain": [
       "(torch.Size([10000, 2048]), torch.Size([10000]), torch.Size([10000, 10]))"
      ]
     },
     "execution_count": 2,
     "metadata": {},
     "output_type": "execute_result"
    }
   ],
   "source": [
    "features = torch.load('../output/results/features.pth')\n",
    "labels = torch.load('../output/results/cifar10_resnet50_pre_labels.pth')\n",
    "logits = torch.load('../output/results/cifar10_resnet50_pre_logits.pth')\n",
    "features.shape, labels.shape, logits.shape"
   ]
  },
  {
   "cell_type": "code",
   "execution_count": 3,
   "metadata": {},
   "outputs": [],
   "source": [
    "# get wrongly prediction index with the confidence larger than 0.95\n",
    "wrong_index = torch.where((labels != logits.argmax(dim=1)) & (F.softmax(logits, dim=1).max(dim=1).values > 0.95))[0]\n",
    "# get correct prediction index with the confidence larger than 0.95\n",
    "correct_index = torch.where((labels == logits.argmax(dim=1)) & (F.softmax(logits, dim=1).max(dim=1).values > 0.95))[0]"
   ]
  },
  {
   "cell_type": "code",
   "execution_count": 23,
   "metadata": {},
   "outputs": [
    {
     "data": {
      "image/png": "[encoded data removed]",
      "text/plain": [
       "<Figure size 1152x360 with 1 Axes>"
      ]
     },
     "metadata": {
      "needs_background": "light"
     },
     "output_type": "display_data"
    }
   ],
   "source": [
    "# randomly select 100 units from the feature\n",
    "selected_units = np.random.choice(features.shape[1], 100, replace=True)\n",
    "features = features[:,selected_units]\n",
    "# plot all features of worngly predicted samples using bar char, x-axis is each unit of features, y-axis is the average value of each unit\n",
    "plt.figure(figsize=(16, 5))\n",
    "plt.bar(np.arange(features.shape[1]), features[wrong_index].mean(dim=0).cpu())\n",
    "# plot all features of correctly predicted samples using bar char, x-axis is each unit of features, y-axis is the average value of each unit in one figure\n",
    "plt.bar(np.arange(features.shape[1]), features[correct_index].mean(dim=0).cpu(), alpha=0.5)\n",
    "plt.xlabel('Feature Index')\n",
    "plt.ylabel('Average Value')\n",
    "# plt.title('Feature Distribution')\n",
    "plt.legend(['Wrong', 'Correct'])\n",
    "plt.tight_layout()\n",
    "plt.savefig('../output/feature_distribution.pdf')\n",
    "plt.show()\n"
   ]
  },
  {
   "cell_type": "code",
   "execution_count": null,
   "metadata": {},
   "outputs": [],
   "source": []
  },
  {
   "cell_type": "code",
   "execution_count": null,
   "metadata": {},
   "outputs": [],
   "source": []
  }
 ],
 "metadata": {
  "kernelspec": {
   "display_name": "base",
   "language": "python",
   "name": "python3"
  },
  "language_info": {
   "codemirror_mode": {
    "name": "ipython",
    "version": 3
   },
   "file_extension": ".py",
   "mimetype": "text/x-python",
   "name": "python",
   "nbconvert_exporter": "python",
   "pygments_lexer": "ipython3",
   "version": "3.9.undefined"
  }
 },
 "nbformat": 4,
 "nbformat_minor": 2
}
