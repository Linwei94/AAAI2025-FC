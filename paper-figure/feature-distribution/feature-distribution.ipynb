{
 "cells": [
  {
   "cell_type": "code",
   "execution_count": 6,
   "metadata": {},
   "outputs": [],
   "source": [
    "import torch\n",
    "import torch.nn as nn\n",
    "import torch.nn.functional as F\n",
    "import numpy as np\n",
    "import matplotlib.pyplot as plt\n",
    "import sys\n",
    "from scipy.stats import halfnorm"
   ]
  },
  {
   "cell_type": "code",
   "execution_count": 36,
   "metadata": {},
   "outputs": [
    {
     "data": {
      "text/plain": [
       "(196, 4740)"
      ]
     },
     "execution_count": 36,
     "metadata": {},
     "output_type": "execute_result"
    }
   ],
   "source": [
    "data = torch.load('../../pre_calculated_logits/cifar10/resnet50_cross_entropy.pt')\n",
    "# data = torch.load('../../pre_calculated_logits/cifar10_resnet110.pt')\n",
    "# data = torch.load('../../pre_calculated_logits/cifar10_densenet121.pt')\n",
    "# data = torch.load('../../pre_calculated_logits/cifar10_wide_resnet.pt')\n",
    "\n",
    "# data = torch.load('../../pre_calculated_logits/cifar100/resnet50_cross_entropy.pt')\n",
    "# data = torch.load('../../pre_calculated_logits/cifar100_densenet121.pt')\n",
    "# data = torch.load('../../pre_calculated_logits/cifar100_wide_resnet.pt')\n",
    "# data = torch.load('../../pre_calculated_logits/cifar100_resnet110.pt')\n",
    "\n",
    "# data = torch.load('../../pre_calculated_logits/imagenet/resnet50_cross_entropy.pt')\n",
    "data_fc = torch.load('../../pre_calculated_logits/imagenet/resnet50_cross_entropy_fc.pt') \n",
    "# data = torch.load('../../pre_calculated_logits/imagenet/vit_b_16_cross_entropy.pt')\n",
    "# data_fc = torch.load('../../pre_calculated_logits/imagenet/vit_b_16_cross_entropy_fc.pt') \n",
    "\n",
    "load_features = data['features_val']\n",
    "labels = data['labels_val']\n",
    "logits = data['logits_val']\n",
    "load_features.shape, labels.shape, logits.shape\n",
    "load_features_fc = data_fc['features_val_fc']\n",
    "labels_fc = data_fc['labels_val_fc']\n",
    "logits_fc = data_fc['logits_val_fc']\n",
    "load_features_fc.shape, labels_fc.shape, logits_fc.shape\n",
    "\n",
    "# get wrongly prediction index with the confidence larger than 0.95\n",
    "wrong_index = torch.where((labels != logits.argmax(dim=1)) & (F.softmax(logits, dim=1).max(dim=1).values > 0.8))[0]\n",
    "# get correct prediction index with the confidence larger than 0.95\n",
    "correct_index = torch.where((labels == logits.argmax(dim=1)) & (F.softmax(logits, dim=1).max(dim=1).values > 0.8))[0]\n",
    "len(wrong_index), len(correct_index)"
   ]
  },
  {
   "cell_type": "code",
   "execution_count": 37,
   "metadata": {},
   "outputs": [
    {
     "data": {
      "image/png": "[encoded data removed]",
      "text/plain": [
       "<Figure size 432x270 with 1 Axes>"
      ]
     },
     "metadata": {
      "needs_background": "light"
     },
     "output_type": "display_data"
    }
   ],
   "source": [
    "wrong_feature = load_features[wrong_index].flatten().cpu().numpy()\n",
    "correct_feature = load_features[correct_index].flatten().cpu().numpy()\n",
    "feature = load_features.flatten().cpu().numpy()\n",
    "# select wrong feature with value larger than 0.01 and smaller than 1.5\n",
    "wrong_feature_nozero = wrong_feature[(wrong_feature > 0.01) & (wrong_feature < 0.95)]\n",
    "correct_feature_nozero = correct_feature[(correct_feature > 0.01) & (correct_feature < 0.95)]\n",
    "\n",
    "# draw histogram for wrong_feature and correct_feature\n",
    "plt.figure(figsize=(6, 2.5*1.5))\n",
    "plt.hist(correct_feature, bins=100, alpha=0.5, label='Low Calibration Error', density=True)\n",
    "plt.hist(wrong_feature, bins=100, alpha=0.5, label='High Calibration Error', density=True)\n",
    "# y axis is density, x axis is feature value\n",
    "plt.xlabel('Feature Value', fontsize=18)\n",
    "# x limit to 1.0\n",
    "plt.xlim(0, 0.6)\n",
    "plt.ylabel('Density', fontsize=18)\n",
    "plt.xticks(fontsize=14)\n",
    "plt.yticks(fontsize=14)\n",
    "plt.legend(fontsize=18)\n",
    "plt.tight_layout()\n",
    "plt.savefig('feature_distribution_pdf.pdf')\n",
    "plt.show()"
   ]
  },
  {
   "cell_type": "code",
   "execution_count": null,
   "metadata": {},
   "outputs": [],
   "source": [
    "# from scipy.stats import halfcauchy\n",
    "# from scipy.stats import halfnorm\n",
    "\n",
    "# x_range = (0.0, 1)\n",
    "\n",
    "# features = load_features\n",
    "# # plot the histogram of feature value of all units, except values largers than 0.4\n",
    "# feature_index=np.random.choice(features.shape[1], 100)\n",
    "# # feature_index=range(features.shape[1])\n",
    "\n",
    "\n",
    "# plt.figure(figsize=(8,4))\n",
    "\n",
    "# #plot the pdf as pdf\n",
    "# wrong_hist = plt.hist(features[wrong_index][:,feature_index].flatten().cpu().numpy(), bins=100, range=x_range, alpha=0.5, label='Wrong', density=True)\n",
    "# correct_hist= plt.hist(features[correct_index][:len(wrong_index)][:,feature_index].flatten().cpu().numpy(), bins=100, range=x_range, alpha=0.5, label='Correct', density=True)\n",
    "\n",
    "# # plt.figure(figsize=(8,4))\n",
    "\n",
    "# # #plot the pdf as pdf\n",
    "# # wrong_hist = plt.hist(features[wrong_index].flatten().cpu().numpy(), bins=100, range=(0.0, 0.1), alpha=0.5, label='Wrong', density=True)\n",
    "# # correct_hist= plt.hist(features[correct_index][:len(wrong_index)].flatten().cpu().numpy(), bins=100, range=(0.0, 0.1), alpha=0.5, label='Correct', density=True)\n",
    "\n",
    "\n",
    "# # adding a fitted halfcauchy distribution curve\n",
    "# x = np.linspace(x_range[0],x_range[1], 100)\n",
    "# mean, std = halfcauchy.fit(features[wrong_index][:,feature_index].flatten().cpu().numpy())\n",
    "# pdf = halfcauchy.pdf(x, loc=mean, scale=std)\n",
    "# plt.plot(x, pdf, 'r-')\n",
    "# print(std)\n",
    "\n",
    "# mean, std = halfcauchy.fit(features[correct_index][:,feature_index].flatten().cpu().numpy())\n",
    "# pdf = halfcauchy.pdf(x, loc=mean, scale=std)\n",
    "# plt.plot(x, pdf, 'b-')\n",
    "# print(std)\n",
    "# # # adding a curve to fit the histogram, make it smooth\n",
    "# # plt.plot(wrong_hist[1][1:], wrong_hist[0], 'r-')\n",
    "# # plt.plot(correct_hist[1][1:], correct_hist[0], 'b-')\n",
    "\n",
    "\n",
    "# plt.xlabel('Feature Value')\n",
    "# plt.ylabel('Frequency')\n",
    "# plt.legend()\n",
    "# plt.tight_layout()\n",
    "# plt.show()"
   ]
  },
  {
   "cell_type": "code",
   "execution_count": null,
   "metadata": {},
   "outputs": [
    {
     "name": "stdout",
     "output_type": "stream",
     "text": [
      "wrong before fc:  tensor(0.4127, device='cuda:0')\n",
      "correct before fc:  tensor(0.1631, device='cuda:0')\n",
      "wrong after fc:  tensor(0.6707, device='cuda:0')\n",
      "correct after fc:  tensor(0.2683, device='cuda:0')\n"
     ]
    }
   ],
   "source": [
    "# calculate the mean entropy of wrong prediction before fc\n",
    "entropy = -F.softmax(logits[wrong_index], dim=1) * F.log_softmax(logits[wrong_index], dim=1)\n",
    "entropy = entropy.sum(dim=1)\n",
    "print(\"wrong before fc: \",entropy.mean())\n",
    "\n",
    "# calculate the mean entropy of correct prediction before fc\n",
    "entropy = -F.softmax(logits[correct_index], dim=1) * F.log_softmax(logits[correct_index], dim=1)\n",
    "entropy = entropy.sum(dim=1)\n",
    "print(\"correct before fc: \",entropy.mean())\n",
    "\n",
    "# calculate the mean entropy of wrong prediction after fc\n",
    "entropy = -F.softmax(logits_fc[wrong_index], dim=1) * F.log_softmax(logits_fc[wrong_index], dim=1)\n",
    "entropy = entropy.sum(dim=1)\n",
    "print(\"wrong after fc: \",entropy.mean())\n",
    "\n",
    "# calculate the mean entropy of correct prediction after fc\n",
    "entropy = -F.softmax(logits_fc[correct_index], dim=1) * F.log_softmax(logits_fc[correct_index], dim=1)\n",
    "entropy = entropy.sum(dim=1)\n",
    "print(\"correct after fc: \",entropy.mean())"
   ]
  },
  {
   "cell_type": "code",
   "execution_count": null,
   "metadata": {},
   "outputs": [
    {
     "data": {
      "text/plain": [
       "tensor(2.1360, device='cuda:0')"
      ]
     },
     "execution_count": 182,
     "metadata": {},
     "output_type": "execute_result"
    }
   ],
   "source": [
    "torch.quantile(features[wrong_index],dim=0,q=0.99).mean()"
   ]
  },
  {
   "cell_type": "code",
   "execution_count": 335,
   "metadata": {},
   "outputs": [
    {
     "name": "stdout",
     "output_type": "stream",
     "text": [
      "165 4718\n"
     ]
    },
    {
     "data": {
      "image/png": "[encoded data removed]",
      "text/plain": [
       "<Figure size 1152x360 with 1 Axes>"
      ]
     },
     "metadata": {
      "needs_background": "light"
     },
     "output_type": "display_data"
    }
   ],
   "source": [
    "data = torch.load('../../pre_calculated_logits/cifar10/resnet50_cross_entropy.pt')\n",
    "\n",
    "data_fc = torch.load('../../pre_calculated_logits/cifar10/resnet50_cross_entropy_fc.pt') \n",
    "\n",
    "load_features = data['features_val']\n",
    "labels = data['labels_val']\n",
    "logits = data['logits_val']\n",
    "load_features.shape, labels.shape, logits.shape\n",
    "load_features_fc = data_fc['features_val_fc']\n",
    "labels_fc = data_fc['labels_val_fc']\n",
    "logits_fc = data_fc['logits_val_fc']\n",
    "load_features_fc.shape, labels_fc.shape, logits_fc.shape\n",
    "\n",
    "# get wrongly prediction index with the confidence larger than 0.95\n",
    "wrong_index = torch.where((labels != logits.argmax(dim=1)) & (F.softmax(logits, dim=1).max(dim=1).values > 0.95))[0]\n",
    "# get correct prediction index with the confidence larger than 0.95\n",
    "correct_index = torch.where((labels == logits.argmax(dim=1)) & (F.softmax(logits, dim=1).max(dim=1).values > 0.95))[0]\n",
    "print(len(wrong_index), len(correct_index))\n",
    "\n",
    "\n",
    "# randomly select 100 units from the feature\n",
    "selected_units = np.random.choice(load_features.shape[1], 100, replace=True)\n",
    "features = load_features[:,selected_units]\n",
    "# plot all features of worngly predicted samples using bar char, x-axis is each unit of features, y-axis is the average value of each unit\n",
    "plt.figure(figsize=(16, 5))\n",
    "plt.bar(np.arange(features.shape[1]), torch.mean(features[wrong_index],dim=0).cpu())\n",
    "# plot all features of correctly predicted samples using bar char, x-axis is each unit of features, y-axis is the average value of each unit in one figure\n",
    "plt.bar(np.arange(features.shape[1]), torch.mean(features[correct_index],dim=0).cpu(), alpha=0.5)\n",
    "plt.xlabel('Feature Index', fontsize=18)\n",
    "plt.ylabel('Average Value', fontsize=18)\n",
    "# larget font size\n",
    "plt.xticks(fontsize=14)\n",
    "plt.yticks(fontsize=14)\n",
    "# plt.title('Feature Distribution')\n",
    "plt.legend(['Wrong', 'Correct'],fontsize=18)\n",
    "plt.tight_layout()\n",
    "plt.savefig('feature_distribution.pdf')\n",
    "plt.show()"
   ]
  },
  {
   "cell_type": "code",
   "execution_count": 310,
   "metadata": {},
   "outputs": [
    {
     "ename": "UnidentifiedImageError",
     "evalue": "cannot identify image file 'feature_distribution.pdf'",
     "output_type": "error",
     "traceback": [
      "\u001b[0;31m---------------------------------------------------------------------------\u001b[0m",
      "\u001b[0;31mUnidentifiedImageError\u001b[0m                    Traceback (most recent call last)",
      "Input \u001b[0;32mIn [310]\u001b[0m, in \u001b[0;36m<cell line: 6>\u001b[0;34m()\u001b[0m\n\u001b[1;32m      4\u001b[0m \u001b[38;5;66;03m# Load the image\u001b[39;00m\n\u001b[1;32m      5\u001b[0m image_path \u001b[38;5;241m=\u001b[39m \u001b[38;5;124m\"\u001b[39m\u001b[38;5;124mfeature_distribution.pdf\u001b[39m\u001b[38;5;124m\"\u001b[39m\n\u001b[0;32m----> 6\u001b[0m image \u001b[38;5;241m=\u001b[39m \u001b[43mImage\u001b[49m\u001b[38;5;241;43m.\u001b[39;49m\u001b[43mopen\u001b[49m\u001b[43m(\u001b[49m\u001b[43mimage_path\u001b[49m\u001b[43m)\u001b[49m\n\u001b[1;32m      8\u001b[0m \u001b[38;5;66;03m# Display the image with larger text\u001b[39;00m\n\u001b[1;32m      9\u001b[0m plt\u001b[38;5;241m.\u001b[39mfigure(figsize\u001b[38;5;241m=\u001b[39m(\u001b[38;5;241m12\u001b[39m, \u001b[38;5;241m6\u001b[39m))\n",
      "File \u001b[0;32m~/anaconda3/lib/python3.9/site-packages/PIL/Image.py:3147\u001b[0m, in \u001b[0;36mopen\u001b[0;34m(fp, mode, formats)\u001b[0m\n\u001b[1;32m   3145\u001b[0m \u001b[38;5;28;01mfor\u001b[39;00m message \u001b[38;5;129;01min\u001b[39;00m accept_warnings:\n\u001b[1;32m   3146\u001b[0m     warnings\u001b[38;5;241m.\u001b[39mwarn(message)\n\u001b[0;32m-> 3147\u001b[0m \u001b[38;5;28;01mraise\u001b[39;00m UnidentifiedImageError(\n\u001b[1;32m   3148\u001b[0m     \u001b[38;5;124m\"\u001b[39m\u001b[38;5;124mcannot identify image file \u001b[39m\u001b[38;5;132;01m%r\u001b[39;00m\u001b[38;5;124m\"\u001b[39m \u001b[38;5;241m%\u001b[39m (filename \u001b[38;5;28;01mif\u001b[39;00m filename \u001b[38;5;28;01melse\u001b[39;00m fp)\n\u001b[1;32m   3149\u001b[0m )\n",
      "\u001b[0;31mUnidentifiedImageError\u001b[0m: cannot identify image file 'feature_distribution.pdf'"
     ]
    }
   ],
   "source": [
    "from PIL import Image\n",
    "import matplotlib.pyplot as plt\n",
    "\n",
    "# Load the image\n",
    "image_path = \"feature_distribution.pdf\"\n",
    "image = Image.open(image_path)\n",
    "\n",
    "# Display the image with larger text\n",
    "plt.figure(figsize=(12, 6))\n",
    "plt.imshow(image)\n",
    "plt.axis('off')  # Hide the axes\n",
    "\n",
    "# Add a title with larger font size\n",
    "# plt.title('Histogram with Larger Text', fontsize=20)\n",
    "\n",
    "# Show the plot\n",
    "plt.show()"
   ]
  },
  {
   "cell_type": "code",
   "execution_count": 252,
   "metadata": {},
   "outputs": [
    {
     "name": "stdout",
     "output_type": "stream",
     "text": [
      "0 44\n"
     ]
    },
    {
     "data": {
      "image/png": "[encoded data removed]",
      "text/plain": [
       "<Figure size 576x360 with 1 Axes>"
      ]
     },
     "metadata": {
      "needs_background": "light"
     },
     "output_type": "display_data"
    }
   ],
   "source": [
    "data = torch.load('../../pre_calculated_logits/imagenet/vit_l_16_cross_entropy.pt')\n",
    "data_fc = torch.load('../../pre_calculated_logits/imagenet/vit_l_16_cross_entropy_fc.pt') \n",
    "\n",
    "load_features = data['features_val']\n",
    "labels = data['labels_val']\n",
    "logits = data['logits_val']\n",
    "load_features.shape, labels.shape, logits.shape\n",
    "load_features_fc = data_fc['features_val_fc']\n",
    "labels_fc = data_fc['labels_val_fc']\n",
    "logits_fc = data_fc['logits_val_fc']\n",
    "load_features_fc.shape, labels_fc.shape, logits_fc.shape\n",
    "\n",
    "# get wrongly prediction index with the confidence larger than 0.95\n",
    "wrong_index = torch.where((labels != logits.argmax(dim=1)) & (F.softmax(logits, dim=1).max(dim=1).values > 0.95))[0]\n",
    "# get correct prediction index with the confidence larger than 0.95\n",
    "correct_index = torch.where((labels == logits.argmax(dim=1)) & (F.softmax(logits, dim=1).max(dim=1).values > 0.95))[0]\n",
    "print(len(wrong_index), len(correct_index))\n",
    "\n",
    "\n",
    "# randomly select 100 units from the feature\n",
    "selected_units = np.random.choice(load_features.shape[1], 100, replace=True)\n",
    "features = load_features[:,selected_units]\n",
    "# plot all features of worngly predicted samples using bar char, x-axis is each unit of features, y-axis is the average value of each unit\n",
    "plt.figure(figsize=(8, 5))\n",
    "plt.bar(np.arange(features.shape[1]), torch.mean(torch.abs(features[wrong_index]),dim=0).cpu())\n",
    "# plot all features of correctly predicted samples using bar char, x-axis is each unit of features, y-axis is the average value of each unit in one figure\n",
    "plt.bar(np.arange(features.shape[1]), torch.mean(torch.abs(features[correct_index]),dim=0).cpu(), alpha=0.5)\n",
    "plt.xlabel('Feature Index', fontsize=16)\n",
    "plt.ylabel('Average Absolute Value', fontsize=16)\n",
    "# larget font size\n",
    "plt.xticks(fontsize=12)\n",
    "plt.yticks(fontsize=12)\n",
    "# plt.title('Feature Distribution')\n",
    "plt.legend(['HCE', 'LCE'])\n",
    "plt.tight_layout()\n",
    "plt.savefig('feature_distribution_vit.pdf')\n",
    "plt.show()\n",
    "\n",
    "#        conf  错  对\n",
    "# resnet >0.8  471 5921\n",
    "# resnet >0.9  271 5221\n",
    "# resnet >0.95 161 4526\n",
    "# resnet >0.99 53  3173\n",
    "# _____________________\n",
    "# ViT-B  >0.8  299 5973\n",
    "# ViT-B  >0.9  39  1560\n",
    "# ViT-B  >0.95 1   94\n",
    "# ViT-B  >0.99 0   1\n",
    "# _____________________\n",
    "# ViT-L  >0.8  455 6431\n",
    "# ViT-L  >0.9  92  3429\n",
    "# ViT-L  >0.95 0   44\n",
    "# ViT-L  >0.99 0   0"
   ]
  },
  {
   "cell_type": "code",
   "execution_count": null,
   "metadata": {},
   "outputs": [
    {
     "data": {
      "image/png": "[encoded data removed]",
      "text/plain": [
       "<Figure size 1152x360 with 1 Axes>"
      ]
     },
     "metadata": {
      "needs_background": "light"
     },
     "output_type": "display_data"
    }
   ],
   "source": [
    "# randomly select 100 units from the feature\n",
    "selected_units = np.random.choice(features.shape[1], 100, replace=True)\n",
    "features = load_features[:,selected_units]\n",
    "# plot all features of worngly predicted samples using bar char, x-axis is each unit of features, y-axis is the average value of each unit\n",
    "plt.figure(figsize=(16, 5))\n",
    "plt.bar(np.arange(features.shape[1]), torch.abs(features[wrong_index].mean(dim=0)).cpu())\n",
    "# plot all features of correctly predicted samples using bar char, x-axis is each unit of features, y-axis is the average value of each unit in one figure\n",
    "plt.bar(np.arange(features.shape[1]), torch.abs(features[correct_index].mean(dim=0)).cpu(), alpha=0.5)\n",
    "\n",
    "plt.xlabel('Feature Index', fontsize=16)\n",
    "plt.ylabel('Abs Value', fontsize=16)\n",
    "# larget font size\n",
    "plt.xticks(fontsize=12)\n",
    "plt.yticks(fontsize=12)\n",
    "# plt.title('Feature Distribution')\n",
    "plt.legend(['Wrong', 'Correct'])\n",
    "plt.tight_layout()\n",
    "# plt.savefig('feature_distribution.pdf')\n",
    "plt.show()"
   ]
  },
  {
   "cell_type": "code",
   "execution_count": null,
   "metadata": {},
   "outputs": [],
   "source": []
  }
 ],
 "metadata": {
  "kernelspec": {
   "display_name": "base",
   "language": "python",
   "name": "python3"
  },
  "language_info": {
   "codemirror_mode": {
    "name": "ipython",
    "version": 3
   },
   "file_extension": ".py",
   "mimetype": "text/x-python",
   "name": "python",
   "nbconvert_exporter": "python",
   "pygments_lexer": "ipython3",
   "version": "3.9.12"
  }
 },
 "nbformat": 4,
 "nbformat_minor": 2
}
