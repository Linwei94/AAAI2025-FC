{
 "cells": [
  {
   "cell_type": "code",
   "execution_count": 2,
   "metadata": {},
   "outputs": [],
   "source": [
    "import torch\n",
    "import torch.nn as nn\n",
    "import torch.nn.functional as F\n",
    "import numpy as np\n",
    "import matplotlib.pyplot as plt\n",
    "import sys\n",
    "from scipy.stats import halfnorm"
   ]
  },
  {
   "cell_type": "code",
   "execution_count": 15,
   "metadata": {},
   "outputs": [
    {
     "data": {
      "text/plain": [
       "0.1134125"
      ]
     },
     "execution_count": 15,
     "metadata": {},
     "output_type": "execute_result"
    }
   ],
   "source": [
    "# data = torch.load('../../pre_calculated_logits/cifar10_resnet50.pt') #(0.2011429145933566, 0.19180566818188102)\n",
    "# data = torch.load('../../pre_calculated_logits/cifar10_resnet110.pt') # (0.21394572407063817, 0.2036991789954139)\n",
    "# data = torch.load('../../pre_calculated_logits/cifar10_densenet121.pt') # (0.21367631107570084, 0.21775027366545502)\n",
    "data = torch.load('../../pre_calculated_logits/cifar10_wide_resnet.pt') # (0.27101995051350897, 0.24667724243540734)\n",
    "\n",
    "# data = torch.load('../../pre_calculated_logits/cifar100_resnet50.pt') # (0.3034935742626169, 0.27132700383761355)\n",
    "# data = torch.load('../../pre_calculated_logits/cifar100_densenet121.pt') # (0.40484805405162416, 0.4310961812758797)\n",
    "# data = torch.load('../../pre_calculated_logits/cifar100_wide_resnet.pt') # (0.5086688101293193, 0.4584319144998693)\n",
    "# data = torch.load('../../pre_calculated_logits/cifar100_resnet110.pt') #(0.35051931440879475, 0.34520472586423406)\n",
    "\n",
    "# data = torch.load('../../pre_calculated_logits/imagenet_resnet50.pt') # (0.6759873926694504, 0.6778855025849704)\n",
    "data_fc = torch.load('../../pre_calculated_logits/cifar10_resnet50_fc.pt') \n",
    "# data = torch.load('../../pre_calculated_logits/imagenet_vit_b_16.pt')\n",
    "# data = torch.load('../../pre_calculated_logits/imagenet_efficientnet_b0.pt')\n",
    "load_features = data['features_val']\n",
    "labels = data['labels_val']\n",
    "logits = data['logits_val']\n",
    "load_features.shape, labels.shape, logits.shape\n",
    "load_features_fc = data_fc['features_val_fc']\n",
    "labels_fc = data_fc['labels_val_fc']\n",
    "logits_fc = data_fc['logits_val_fc']\n",
    "load_features_fc.shape, labels_fc.shape, logits_fc.shape\n",
    "\n",
    "# get wrongly prediction index with the confidence larger than 0.95\n",
    "wrong_index = torch.where((labels != logits.argmax(dim=1)) & (F.softmax(logits, dim=1).max(dim=1).values > 0.8))[0]\n",
    "# get correct prediction index with the confidence larger than 0.95\n",
    "correct_index = torch.where((labels == logits.argmax(dim=1)) & (F.softmax(logits, dim=1).max(dim=1).values > 0.8))[0]\n",
    "len(wrong_index), len(correct_index)\n",
    "\n",
    "\n",
    "wrong_feature = load_features[wrong_index].flatten().cpu().numpy()\n",
    "correct_feature = load_features[correct_index].flatten().cpu().numpy()\n",
    "feature = load_features.flatten().cpu().numpy()\n",
    "# remove all zeros\n",
    "# wrong_feature = wrong_feature[wrong_feature != 0]\n",
    "# correct_feature = correct_feature[correct_feature != 0]\n",
    "\n",
    "# halfnorm.fit(correct_feature)[1], halfnorm.fit(wrong_feature)[1]\n",
    "len(feature[feature == 0])/len(feature)\n"
   ]
  },
  {
   "cell_type": "code",
   "execution_count": null,
   "metadata": {},
   "outputs": [],
   "source": []
  },
  {
   "cell_type": "code",
   "execution_count": null,
   "metadata": {},
   "outputs": [],
   "source": [
    "from scipy.stats import halfcauchy\n",
    "from scipy.stats import halfnorm\n",
    "\n",
    "x_range = (0.0, 1)\n",
    "features = load_features\n",
    "\n",
    "# plot the histogram of feature value of all units, except values largers than 0.4\n",
    "# feature_index=np.random.choice(features.shape[1], 100)\n",
    "feature_index=range(features.shape[1])\n",
    "\n",
    "\n",
    "plt.figure(figsize=(8,4))\n",
    "\n",
    "#plot the pdf as pdf\n",
    "wrong_hist = plt.hist(features[wrong_index][feature_index].flatten().cpu().numpy(), bins=100, range=x_range, alpha=0.5, label='Wrong', density=True)\n",
    "correct_hist= plt.hist(features[correct_index][:len(wrong_index)][feature_index].flatten().cpu().numpy(), bins=100, range=x_range, alpha=0.5, label='Correct', density=True)\n",
    "\n",
    "# plt.figure(figsize=(8,4))\n",
    "\n",
    "# #plot the pdf as pdf\n",
    "# wrong_hist = plt.hist(features[wrong_index].flatten().cpu().numpy(), bins=100, range=(0.0, 0.1), alpha=0.5, label='Wrong', density=True)\n",
    "# correct_hist= plt.hist(features[correct_index][:len(wrong_index)].flatten().cpu().numpy(), bins=100, range=(0.0, 0.1), alpha=0.5, label='Correct', density=True)\n",
    "\n",
    "\n",
    "# adding a fitted halfcauchy distribution curve\n",
    "x = np.linspace(x_range[0],x_range[1], 100)\n",
    "mean, std = halfcauchy.fit(features[wrong_index][feature_index].flatten().cpu().numpy())\n",
    "pdf = halfcauchy.pdf(x, loc=mean, scale=std)\n",
    "plt.plot(x, pdf, 'r-')\n",
    "print(std)\n",
    "\n",
    "mean, std = halfcauchy.fit(features[correct_index][feature_index].flatten().cpu().numpy())\n",
    "pdf = halfcauchy.pdf(x, loc=mean, scale=std)\n",
    "plt.plot(x, pdf, 'b-')\n",
    "print(std)\n",
    "# # adding a curve to fit the histogram, make it smooth\n",
    "# plt.plot(wrong_hist[1][1:], wrong_hist[0], 'r-')\n",
    "# plt.plot(correct_hist[1][1:], correct_hist[0], 'b-')\n",
    "\n",
    "\n",
    "plt.xlabel('Feature Value')\n",
    "plt.ylabel('Frequency')\n",
    "plt.legend()\n",
    "plt.tight_layout()\n",
    "plt.show()"
   ]
  },
  {
   "cell_type": "code",
   "execution_count": 3,
   "metadata": {},
   "outputs": [
    {
     "name": "stdout",
     "output_type": "stream",
     "text": [
      "wrong before fc:  tensor(0.0824, device='cuda:0')\n",
      "correct before fc:  tensor(0.0032, device='cuda:0')\n",
      "wrong after fc:  tensor(0.5723, device='cuda:0')\n",
      "correct after fc:  tensor(0.1525, device='cuda:0')\n"
     ]
    }
   ],
   "source": [
    "# calculate the mean entropy of wrong prediction before fc\n",
    "entropy = -F.softmax(logits[wrong_index], dim=1) * F.log_softmax(logits[wrong_index], dim=1)\n",
    "entropy = entropy.sum(dim=1)\n",
    "print(\"wrong before fc: \",entropy.mean())\n",
    "\n",
    "# calculate the mean entropy of correct prediction before fc\n",
    "entropy = -F.softmax(logits[correct_index], dim=1) * F.log_softmax(logits[correct_index], dim=1)\n",
    "entropy = entropy.sum(dim=1)\n",
    "print(\"correct before fc: \",entropy.mean())\n",
    "\n",
    "# calculate the mean entropy of wrong prediction after fc\n",
    "entropy = -F.softmax(logits_fc[wrong_index], dim=1) * F.log_softmax(logits_fc[wrong_index], dim=1)\n",
    "entropy = entropy.sum(dim=1)\n",
    "print(\"wrong after fc: \",entropy.mean())\n",
    "\n",
    "# calculate the mean entropy of correct prediction after fc\n",
    "entropy = -F.softmax(logits_fc[correct_index], dim=1) * F.log_softmax(logits_fc[correct_index], dim=1)\n",
    "entropy = entropy.sum(dim=1)\n",
    "print(\"correct after fc: \",entropy.mean())"
   ]
  },
  {
   "cell_type": "code",
   "execution_count": 4,
   "metadata": {},
   "outputs": [
    {
     "data": {
      "image/png": "[encoded data removed]",
      "text/plain": [
       "<Figure size 1152x360 with 1 Axes>"
      ]
     },
     "metadata": {
      "needs_background": "light"
     },
     "output_type": "display_data"
    }
   ],
   "source": [
    "# randomly select 100 units from the feature\n",
    "selected_units = np.random.choice(load_features.shape[1], 100, replace=True)\n",
    "features = load_features[:,selected_units]\n",
    "# plot all features of worngly predicted samples using bar char, x-axis is each unit of features, y-axis is the average value of each unit\n",
    "plt.figure(figsize=(16, 5))\n",
    "plt.bar(np.arange(features.shape[1]), features[wrong_index].mean(dim=0).cpu())\n",
    "# plot all features of correctly predicted samples using bar char, x-axis is each unit of features, y-axis is the average value of each unit in one figure\n",
    "plt.bar(np.arange(features.shape[1]), features[correct_index].mean(dim=0).cpu(), alpha=0.5)\n",
    "plt.xlabel('Feature Index')\n",
    "plt.ylabel('Average Value')\n",
    "# plt.title('Feature Distribution')\n",
    "plt.legend(['Wrong', 'Correct'])\n",
    "plt.tight_layout()\n",
    "plt.savefig('feature_distribution.pdf')\n",
    "plt.show()\n"
   ]
  },
  {
   "cell_type": "code",
   "execution_count": 5,
   "metadata": {},
   "outputs": [
    {
     "data": {
      "image/png": "[encoded data removed]",
      "text/plain": [
       "<Figure size 1152x360 with 1 Axes>"
      ]
     },
     "metadata": {
      "needs_background": "light"
     },
     "output_type": "display_data"
    }
   ],
   "source": [
    "# randomly select 100 units from the feature\n",
    "selected_units = np.random.choice(features.shape[1], 100, replace=True)\n",
    "features = load_features[:,selected_units]\n",
    "# plot all features of worngly predicted samples using bar char, x-axis is each unit of features, y-axis is the average value of each unit\n",
    "plt.figure(figsize=(16, 5))\n",
    "plt.bar(np.arange(features.shape[1]), torch.abs(features[wrong_index]).mean(dim=0).cpu())\n",
    "# plot all features of correctly predicted samples using bar char, x-axis is each unit of features, y-axis is the average value of each unit in one figure\n",
    "plt.bar(np.arange(features.shape[1]), torch.abs(features[correct_index]).mean(dim=0).cpu(), alpha=0.5)\n",
    "\n",
    "\n",
    "plt.xlabel('Feature Index')\n",
    "plt.ylabel('Average Value')\n",
    "# plt.title('Feature Distribution')\n",
    "plt.legend(['Wrong', 'Correct'])\n",
    "plt.tight_layout()\n",
    "plt.savefig('feature_distribution.pdf')\n",
    "plt.show()\n"
   ]
  }
 ],
 "metadata": {
  "kernelspec": {
   "display_name": "base",
   "language": "python",
   "name": "python3"
  },
  "language_info": {
   "codemirror_mode": {
    "name": "ipython",
    "version": 3
   },
   "file_extension": ".py",
   "mimetype": "text/x-python",
   "name": "python",
   "nbconvert_exporter": "python",
   "pygments_lexer": "ipython3",
   "version": "3.9.12"
  }
 },
 "nbformat": 4,
 "nbformat_minor": 2
}
